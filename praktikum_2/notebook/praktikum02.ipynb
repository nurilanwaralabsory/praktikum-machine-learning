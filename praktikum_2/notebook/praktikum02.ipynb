{
 "cells": [
  {
   "cell_type": "code",
   "execution_count": 25,
   "id": "ca4829b5",
   "metadata": {},
   "outputs": [
    {
     "data": {
      "text/html": [
       "<div>\n",
       "<style scoped>\n",
       "    .dataframe tbody tr th:only-of-type {\n",
       "        vertical-align: middle;\n",
       "    }\n",
       "\n",
       "    .dataframe tbody tr th {\n",
       "        vertical-align: top;\n",
       "    }\n",
       "\n",
       "    .dataframe thead th {\n",
       "        text-align: right;\n",
       "    }\n",
       "</style>\n",
       "<table border=\"1\" class=\"dataframe\">\n",
       "  <thead>\n",
       "    <tr style=\"text-align: right;\">\n",
       "      <th></th>\n",
       "      <th>Gender</th>\n",
       "      <th>Height</th>\n",
       "      <th>Weight</th>\n",
       "      <th>Index</th>\n",
       "    </tr>\n",
       "  </thead>\n",
       "  <tbody>\n",
       "    <tr>\n",
       "      <th>0</th>\n",
       "      <td>Male</td>\n",
       "      <td>174</td>\n",
       "      <td>96</td>\n",
       "      <td>4</td>\n",
       "    </tr>\n",
       "    <tr>\n",
       "      <th>1</th>\n",
       "      <td>Male</td>\n",
       "      <td>189</td>\n",
       "      <td>87</td>\n",
       "      <td>2</td>\n",
       "    </tr>\n",
       "    <tr>\n",
       "      <th>2</th>\n",
       "      <td>Female</td>\n",
       "      <td>185</td>\n",
       "      <td>110</td>\n",
       "      <td>4</td>\n",
       "    </tr>\n",
       "    <tr>\n",
       "      <th>3</th>\n",
       "      <td>Female</td>\n",
       "      <td>195</td>\n",
       "      <td>104</td>\n",
       "      <td>3</td>\n",
       "    </tr>\n",
       "    <tr>\n",
       "      <th>4</th>\n",
       "      <td>Male</td>\n",
       "      <td>149</td>\n",
       "      <td>61</td>\n",
       "      <td>3</td>\n",
       "    </tr>\n",
       "  </tbody>\n",
       "</table>\n",
       "</div>"
      ],
      "text/plain": [
       "   Gender  Height  Weight  Index\n",
       "0    Male     174      96      4\n",
       "1    Male     189      87      2\n",
       "2  Female     185     110      4\n",
       "3  Female     195     104      3\n",
       "4    Male     149      61      3"
      ]
     },
     "execution_count": 25,
     "metadata": {},
     "output_type": "execute_result"
    }
   ],
   "source": [
    "#  membaca file csv\n",
    "import pandas as pd \n",
    "import matplotlib.pyplot as plt\n",
    "import numpy as np\n",
    "\n",
    "df = pd.read_csv('../data/500_Person_Gender_Height_Weight_Index.csv')\n",
    "\n",
    "df.head()"
   ]
  },
  {
   "cell_type": "code",
   "execution_count": 10,
   "id": "c64824d3",
   "metadata": {},
   "outputs": [
    {
     "name": "stdout",
     "output_type": "stream",
     "text": [
      "<class 'pandas.core.frame.DataFrame'>\n",
      "RangeIndex: 500 entries, 0 to 499\n",
      "Data columns (total 4 columns):\n",
      " #   Column  Non-Null Count  Dtype \n",
      "---  ------  --------------  ----- \n",
      " 0   Gender  500 non-null    object\n",
      " 1   Height  500 non-null    int64 \n",
      " 2   Weight  500 non-null    int64 \n",
      " 3   Index   500 non-null    int64 \n",
      "dtypes: int64(3), object(1)\n",
      "memory usage: 15.8+ KB\n"
     ]
    }
   ],
   "source": [
    "# ANALISIS STATISTIK DESKRIPTIF\n",
    "\n",
    "# 1. melihat informasi umum data\n",
    "df.info()"
   ]
  },
  {
   "cell_type": "code",
   "execution_count": null,
   "id": "5cbf3e5a",
   "metadata": {},
   "outputs": [
    {
     "data": {
      "text/plain": [
       "np.float64(169.944)"
      ]
     },
     "execution_count": 11,
     "metadata": {},
     "output_type": "execute_result"
    }
   ],
   "source": [
    "# 2. menghitung nilai-nilai sentral (MEAN, MEDIAN, MODUS)\n",
    "# MEAN\n",
    "df['Height'].mean()"
   ]
  },
  {
   "cell_type": "code",
   "execution_count": 12,
   "id": "4966f6f0",
   "metadata": {},
   "outputs": [
    {
     "data": {
      "text/plain": [
       "170.5"
      ]
     },
     "execution_count": 12,
     "metadata": {},
     "output_type": "execute_result"
    }
   ],
   "source": [
    "# MEDIAN\n",
    "df['Height'].median()"
   ]
  },
  {
   "cell_type": "code",
   "execution_count": 13,
   "id": "243c9f23",
   "metadata": {},
   "outputs": [
    {
     "data": {
      "text/plain": [
       "0    188\n",
       "Name: Height, dtype: int64"
      ]
     },
     "execution_count": 13,
     "metadata": {},
     "output_type": "execute_result"
    }
   ],
   "source": [
    "# MODUS\n",
    "df['Height'].mode() "
   ]
  },
  {
   "cell_type": "code",
   "execution_count": null,
   "id": "289b6421",
   "metadata": {},
   "outputs": [
    {
     "data": {
      "text/plain": [
       "Height     268.149162\n",
       "Weight    1048.633267\n",
       "Index        1.836168\n",
       "dtype: float64"
      ]
     },
     "execution_count": 14,
     "metadata": {},
     "output_type": "execute_result"
    }
   ],
   "source": [
    "# 3. menghitung ukuran persebaran data (VARIANS & STANDARR DEVIASI)\n",
    "# menghitung variansi\n",
    "df.var(numeric_only=True)"
   ]
  },
  {
   "cell_type": "code",
   "execution_count": 15,
   "id": "142219e7",
   "metadata": {},
   "outputs": [
    {
     "data": {
      "text/plain": [
       "Height    16.375261\n",
       "Weight    32.382607\n",
       "Index      1.355053\n",
       "dtype: float64"
      ]
     },
     "execution_count": 15,
     "metadata": {},
     "output_type": "execute_result"
    }
   ],
   "source": [
    "# menghitung standar deviasi\n",
    "df.std(numeric_only=True)"
   ]
  },
  {
   "cell_type": "code",
   "execution_count": 17,
   "id": "20e31d0e",
   "metadata": {},
   "outputs": [
    {
     "name": "stdout",
     "output_type": "stream",
     "text": [
      "Q1 :  156.0\n",
      "Q3 :  184.0\n",
      "IQR :  28.0\n"
     ]
    }
   ],
   "source": [
    "# 4. menghitung kuartil\n",
    "# - menghitung kuartil pertama (Q1)\n",
    "q1 = df['Height'].quantile(0.25)\n",
    "print(\"Q1 : \", q1)\n",
    "\n",
    "# - menghitung kuartil ketiga (Q3)\n",
    "q3 = df['Height'].quantile(0.75)\n",
    "print(\"Q3 : \", q3)\n",
    "\n",
    "#  hitung IQR (Interquartile Range)\n",
    "iqr = q3-q1\n",
    "print(\"IQR : \", iqr) "
   ]
  },
  {
   "cell_type": "code",
   "execution_count": null,
   "id": "f416032f",
   "metadata": {},
   "outputs": [
    {
     "data": {
      "text/html": [
       "<div>\n",
       "<style scoped>\n",
       "    .dataframe tbody tr th:only-of-type {\n",
       "        vertical-align: middle;\n",
       "    }\n",
       "\n",
       "    .dataframe tbody tr th {\n",
       "        vertical-align: top;\n",
       "    }\n",
       "\n",
       "    .dataframe thead th {\n",
       "        text-align: right;\n",
       "    }\n",
       "</style>\n",
       "<table border=\"1\" class=\"dataframe\">\n",
       "  <thead>\n",
       "    <tr style=\"text-align: right;\">\n",
       "      <th></th>\n",
       "      <th>Height</th>\n",
       "      <th>Weight</th>\n",
       "      <th>Index</th>\n",
       "    </tr>\n",
       "  </thead>\n",
       "  <tbody>\n",
       "    <tr>\n",
       "      <th>count</th>\n",
       "      <td>500.000000</td>\n",
       "      <td>500.000000</td>\n",
       "      <td>500.000000</td>\n",
       "    </tr>\n",
       "    <tr>\n",
       "      <th>mean</th>\n",
       "      <td>169.944000</td>\n",
       "      <td>106.000000</td>\n",
       "      <td>3.748000</td>\n",
       "    </tr>\n",
       "    <tr>\n",
       "      <th>std</th>\n",
       "      <td>16.375261</td>\n",
       "      <td>32.382607</td>\n",
       "      <td>1.355053</td>\n",
       "    </tr>\n",
       "    <tr>\n",
       "      <th>min</th>\n",
       "      <td>140.000000</td>\n",
       "      <td>50.000000</td>\n",
       "      <td>0.000000</td>\n",
       "    </tr>\n",
       "    <tr>\n",
       "      <th>25%</th>\n",
       "      <td>156.000000</td>\n",
       "      <td>80.000000</td>\n",
       "      <td>3.000000</td>\n",
       "    </tr>\n",
       "    <tr>\n",
       "      <th>50%</th>\n",
       "      <td>170.500000</td>\n",
       "      <td>106.000000</td>\n",
       "      <td>4.000000</td>\n",
       "    </tr>\n",
       "    <tr>\n",
       "      <th>75%</th>\n",
       "      <td>184.000000</td>\n",
       "      <td>136.000000</td>\n",
       "      <td>5.000000</td>\n",
       "    </tr>\n",
       "    <tr>\n",
       "      <th>max</th>\n",
       "      <td>199.000000</td>\n",
       "      <td>160.000000</td>\n",
       "      <td>5.000000</td>\n",
       "    </tr>\n",
       "  </tbody>\n",
       "</table>\n",
       "</div>"
      ],
      "text/plain": [
       "           Height      Weight       Index\n",
       "count  500.000000  500.000000  500.000000\n",
       "mean   169.944000  106.000000    3.748000\n",
       "std     16.375261   32.382607    1.355053\n",
       "min    140.000000   50.000000    0.000000\n",
       "25%    156.000000   80.000000    3.000000\n",
       "50%    170.500000  106.000000    4.000000\n",
       "75%    184.000000  136.000000    5.000000\n",
       "max    199.000000  160.000000    5.000000"
      ]
     },
     "execution_count": 18,
     "metadata": {},
     "output_type": "execute_result"
    }
   ],
   "source": [
    "# 5. menghitung statistik deksriptif otomatis\n",
    "# Untuk membuat statistik deskriptif pada type data int\n",
    "df.describe()"
   ]
  },
  {
   "cell_type": "code",
   "execution_count": 19,
   "id": "c2a24e0c",
   "metadata": {},
   "outputs": [
    {
     "name": "stdout",
     "output_type": "stream",
     "text": [
      "Matriks Korelasi: \n",
      "          Height    Weight     Index\n",
      "Height  1.000000  0.000446 -0.422223\n",
      "Weight  0.000446  1.000000  0.804569\n",
      "Index  -0.422223  0.804569  1.000000\n"
     ]
    }
   ],
   "source": [
    "#  6. menghitung korelasi\n",
    "# menghitung matriks korelasi untuk semua kolom numerik\n",
    "correlation_matrix = df.corr(numeric_only=True)\n",
    "\n",
    "# menampilkan matriks korelasi\n",
    "print(\"Matriks Korelasi: \")\n",
    "print(correlation_matrix)"
   ]
  },
  {
   "cell_type": "code",
   "execution_count": 20,
   "id": "01983aa0",
   "metadata": {},
   "outputs": [
    {
     "data": {
      "text/plain": [
       "<Axes: >"
      ]
     },
     "execution_count": 20,
     "metadata": {},
     "output_type": "execute_result"
    },
    {
     "data": {
      "image/png": "[encoded data removed]",
      "text/plain": [
       "<Figure size 640x480 with 1 Axes>"
      ]
     },
     "metadata": {},
     "output_type": "display_data"
    }
   ],
   "source": [
    "# VISUALISASI DATA\n",
    "# boxplot \n",
    "df.boxplot(column=['Height', 'Weight'])"
   ]
  },
  {
   "cell_type": "code",
   "execution_count": 27,
   "id": "a65db4d6",
   "metadata": {},
   "outputs": [
    {
     "data": {
      "image/png": "[encoded data removed]",
      "text/plain": [
       "<Figure size 640x480 with 1 Axes>"
      ]
     },
     "metadata": {},
     "output_type": "display_data"
    }
   ],
   "source": [
    "# histogram\n",
    "data_height = df['Height']\n",
    "\n",
    "# buat histogram\n",
    "n, bins, patches = plt.hist(data_height, bins=5, color='pink',  edgecolor='black')\n",
    "\n",
    "plt.title('Histogram Nilai')\n",
    "plt.xlabel('Height')\n",
    "plt.ylabel('Frekuensi')\n",
    "\n",
    "# tampilkan rentang frekuensi di sumbu x\n",
    "bin_centers = 0.5 * (bins[:-1] + bins[1:])\n",
    "plt.xticks(bin_centers, ['{:.0f}-{:.0f}'.format(bins[i], bins[i+1]) for i in range(len(bins)-1)])\n",
    "           \n",
    "plt.show()"
   ]
  },
  {
   "cell_type": "code",
   "execution_count": 28,
   "id": "1d90b84d",
   "metadata": {},
   "outputs": [
    {
     "data": {
      "image/png": "[encoded data removed]",
      "text/plain": [
       "<Figure size 640x480 with 1 Axes>"
      ]
     },
     "metadata": {},
     "output_type": "display_data"
    }
   ],
   "source": [
    "# scatter plot\n",
    "# buat dataframe contoh\n",
    "data = {\n",
    "     'Nilai1': [1, 2, 3, 4, 5, 6, 7, 8, 9, 10],\n",
    "     'Nilai2': [2, 4, 6, 8, 10, 12, 14, 16, 18, 20]\n",
    "}\n",
    "\n",
    "df2 = pd.DataFrame(data)\n",
    "\n",
    "# buat scatter plot\n",
    "plt.scatter(df2['Nilai1'], df2['Nilai2'], color='blue', marker='o')\n",
    "\n",
    "# tambahkan label\n",
    "plt.title('Scatter Plot Korelasi Positif')\n",
    "plt.xlabel('Nilai1')\n",
    "plt.ylabel('Nilai2')\n",
    "\n",
    "# tambahkan grid\n",
    "plt.grid(True)\n",
    "\n",
    "# tampilkan plot\n",
    "plt.show()\n",
    "\n"
   ]
  },
  {
   "cell_type": "code",
   "execution_count": 33,
   "id": "301d051b",
   "metadata": {},
   "outputs": [
    {
     "data": {
      "image/png": "[encoded data removed]",
      "text/plain": [
       "<Figure size 640x480 with 1 Axes>"
      ]
     },
     "metadata": {},
     "output_type": "display_data"
    }
   ],
   "source": [
    "# scatter plot\n",
    "# buat dataframe contoh\n",
    "data = {\n",
    "     'Nilai1': [1, 2, 3, 4, 5, 6, 7, 8, 9, 10],\n",
    "     'Nilai2': [10, 9, 8, 7, 6, 5, 4, 3, 2, 1]\n",
    "}\n",
    "\n",
    "df3 = pd.DataFrame(data)\n",
    "\n",
    "# buat scatter plot\n",
    "plt.scatter(df3['Nilai1'], df3['Nilai2'], color='red', marker='x')\n",
    "\n",
    "# tambahkan label\n",
    "plt.title('Scatter Plot Korelasi Negatif')\n",
    "plt.xlabel('Nilai1')\n",
    "plt.ylabel('Nilai2')\n",
    "\n",
    "# tambahkan grid\n",
    "plt.grid(True)\n",
    "\n",
    "# tampilkan plot\n",
    "plt.show()"
   ]
  }
 ],
 "metadata": {
  "kernelspec": {
   "display_name": "base",
   "language": "python",
   "name": "python3"
  },
  "language_info": {
   "codemirror_mode": {
    "name": "ipython",
    "version": 3
   },
   "file_extension": ".py",
   "mimetype": "text/x-python",
   "name": "python",
   "nbconvert_exporter": "python",
   "pygments_lexer": "ipython3",
   "version": "3.13.5"
  }
 },
 "nbformat": 4,
 "nbformat_minor": 5
}
