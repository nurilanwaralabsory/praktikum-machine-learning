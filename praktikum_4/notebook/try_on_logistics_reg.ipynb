{
 "cells": [
  {
   "cell_type": "code",
   "execution_count": 3,
   "id": "e0f43f10",
   "metadata": {},
   "outputs": [],
   "source": [
    "import numpy as np\n",
    "import pandas as  pd\n",
    "import matplotlib.pyplot as plt\n",
    "\n",
    "from sklearn.model_selection import train_test_split\n",
    "from sklearn.compose import ColumnTransformer\n",
    "from sklearn.preprocessing import OneHotEncoder, StandardScaler\n",
    "from sklearn.pipeline import Pipeline\n",
    "from sklearn.linear_model import LogisticRegression\n",
    "from sklearn.metrics import (\n",
    "     accuracy_score, precision_score, recall_score, f1_score, roc_auc_score,\n",
    "     confusion_matrix, classification_report, RocCurveDisplay, ConfusionMatrixDisplay\n",
    ")"
   ]
  },
  {
   "cell_type": "code",
   "execution_count": 4,
   "id": "47301575",
   "metadata": {},
   "outputs": [
    {
     "data": {
      "text/html": [
       "<div>\n",
       "<style scoped>\n",
       "    .dataframe tbody tr th:only-of-type {\n",
       "        vertical-align: middle;\n",
       "    }\n",
       "\n",
       "    .dataframe tbody tr th {\n",
       "        vertical-align: top;\n",
       "    }\n",
       "\n",
       "    .dataframe thead th {\n",
       "        text-align: right;\n",
       "    }\n",
       "</style>\n",
       "<table border=\"1\" class=\"dataframe\">\n",
       "  <thead>\n",
       "    <tr style=\"text-align: right;\">\n",
       "      <th></th>\n",
       "      <th>Jenis Kelamin</th>\n",
       "      <th>Umur (bulan)</th>\n",
       "      <th>Tinggi Badan (cm)</th>\n",
       "      <th>Berat Badan (kg)</th>\n",
       "      <th>Stunting</th>\n",
       "      <th>Wasting</th>\n",
       "    </tr>\n",
       "  </thead>\n",
       "  <tbody>\n",
       "    <tr>\n",
       "      <th>0</th>\n",
       "      <td>Laki-laki</td>\n",
       "      <td>19</td>\n",
       "      <td>91.6</td>\n",
       "      <td>13.3</td>\n",
       "      <td>Tall</td>\n",
       "      <td>Risk of Overweight</td>\n",
       "    </tr>\n",
       "    <tr>\n",
       "      <th>1</th>\n",
       "      <td>Laki-laki</td>\n",
       "      <td>20</td>\n",
       "      <td>77.7</td>\n",
       "      <td>8.5</td>\n",
       "      <td>Stunted</td>\n",
       "      <td>Underweight</td>\n",
       "    </tr>\n",
       "    <tr>\n",
       "      <th>2</th>\n",
       "      <td>Laki-laki</td>\n",
       "      <td>10</td>\n",
       "      <td>79.0</td>\n",
       "      <td>10.3</td>\n",
       "      <td>Normal</td>\n",
       "      <td>Risk of Overweight</td>\n",
       "    </tr>\n",
       "    <tr>\n",
       "      <th>3</th>\n",
       "      <td>Perempuan</td>\n",
       "      <td>2</td>\n",
       "      <td>50.3</td>\n",
       "      <td>8.3</td>\n",
       "      <td>Severely Stunted</td>\n",
       "      <td>Risk of Overweight</td>\n",
       "    </tr>\n",
       "    <tr>\n",
       "      <th>4</th>\n",
       "      <td>Perempuan</td>\n",
       "      <td>5</td>\n",
       "      <td>56.4</td>\n",
       "      <td>10.9</td>\n",
       "      <td>Severely Stunted</td>\n",
       "      <td>Risk of Overweight</td>\n",
       "    </tr>\n",
       "  </tbody>\n",
       "</table>\n",
       "</div>"
      ],
      "text/plain": [
       "  Jenis Kelamin  Umur (bulan)  Tinggi Badan (cm)  Berat Badan (kg)  \\\n",
       "0     Laki-laki            19               91.6              13.3   \n",
       "1     Laki-laki            20               77.7               8.5   \n",
       "2     Laki-laki            10               79.0              10.3   \n",
       "3     Perempuan             2               50.3               8.3   \n",
       "4     Perempuan             5               56.4              10.9   \n",
       "\n",
       "           Stunting             Wasting  \n",
       "0              Tall  Risk of Overweight  \n",
       "1           Stunted         Underweight  \n",
       "2            Normal  Risk of Overweight  \n",
       "3  Severely Stunted  Risk of Overweight  \n",
       "4  Severely Stunted  Risk of Overweight  "
      ]
     },
     "execution_count": 4,
     "metadata": {},
     "output_type": "execute_result"
    }
   ],
   "source": [
    "df = pd.read_csv('../data/stunting_wasting_dataset.csv')\n",
    "df.head()"
   ]
  },
  {
   "cell_type": "code",
   "execution_count": 5,
   "id": "1b985331",
   "metadata": {},
   "outputs": [
    {
     "data": {
      "text/plain": [
       "<bound method DataFrame.info of       Jenis Kelamin  Umur (bulan)  Tinggi Badan (cm)  Berat Badan (kg)  \\\n",
       "0         Laki-laki            19               91.6              13.3   \n",
       "1         Laki-laki            20               77.7               8.5   \n",
       "2         Laki-laki            10               79.0              10.3   \n",
       "3         Perempuan             2               50.3               8.3   \n",
       "4         Perempuan             5               56.4              10.9   \n",
       "...             ...           ...                ...               ...   \n",
       "99995     Laki-laki            11               75.3               7.3   \n",
       "99996     Laki-laki            21               93.7              14.8   \n",
       "99997     Perempuan            18               82.9              12.6   \n",
       "99998     Laki-laki             7               73.6               5.5   \n",
       "99999     Laki-laki            17               88.8               6.7   \n",
       "\n",
       "               Stunting               Wasting  \n",
       "0                  Tall    Risk of Overweight  \n",
       "1               Stunted           Underweight  \n",
       "2                Normal    Risk of Overweight  \n",
       "3      Severely Stunted    Risk of Overweight  \n",
       "4      Severely Stunted    Risk of Overweight  \n",
       "...                 ...                   ...  \n",
       "99995            Normal           Underweight  \n",
       "99996            Normal    Risk of Overweight  \n",
       "99997            Normal    Risk of Overweight  \n",
       "99998            Normal  Severely Underweight  \n",
       "99999            Normal  Severely Underweight  \n",
       "\n",
       "[100000 rows x 6 columns]>"
      ]
     },
     "execution_count": 5,
     "metadata": {},
     "output_type": "execute_result"
    }
   ],
   "source": [
    "df.info"
   ]
  },
  {
   "cell_type": "code",
   "execution_count": 6,
   "id": "dafaeecb",
   "metadata": {},
   "outputs": [
    {
     "data": {
      "text/plain": [
       "Jenis Kelamin        0\n",
       "Umur (bulan)         0\n",
       "Tinggi Badan (cm)    0\n",
       "Berat Badan (kg)     0\n",
       "Stunting             0\n",
       "Wasting              0\n",
       "dtype: int64"
      ]
     },
     "execution_count": 6,
     "metadata": {},
     "output_type": "execute_result"
    }
   ],
   "source": [
    "df.isnull().sum()"
   ]
  },
  {
   "cell_type": "code",
   "execution_count": 8,
   "id": "3d11f581",
   "metadata": {},
   "outputs": [
    {
     "data": {
      "text/plain": [
       "np.int64(7308)"
      ]
     },
     "execution_count": 8,
     "metadata": {},
     "output_type": "execute_result"
    }
   ],
   "source": [
    "df.duplicated().sum()"
   ]
  },
  {
   "cell_type": "code",
   "execution_count": 10,
   "id": "79e01cc8",
   "metadata": {},
   "outputs": [
    {
     "data": {
      "text/plain": [
       "np.int64(0)"
      ]
     },
     "execution_count": 10,
     "metadata": {},
     "output_type": "execute_result"
    }
   ],
   "source": [
    "df = df.drop_duplicates()\n",
    "df.duplicated().sum()"
   ]
  },
  {
   "cell_type": "code",
   "execution_count": 11,
   "id": "0efc575c",
   "metadata": {},
   "outputs": [
    {
     "data": {
      "text/plain": [
       "array(['Tall', 'Stunted', 'Normal', 'Severely Stunted'], dtype=object)"
      ]
     },
     "execution_count": 11,
     "metadata": {},
     "output_type": "execute_result"
    }
   ],
   "source": [
    "df['Stunting'].unique()"
   ]
  },
  {
   "cell_type": "code",
   "execution_count": 12,
   "id": "12a12c72",
   "metadata": {},
   "outputs": [
    {
     "data": {
      "text/plain": [
       "array(['Laki-laki', 'Perempuan'], dtype=object)"
      ]
     },
     "execution_count": 12,
     "metadata": {},
     "output_type": "execute_result"
    }
   ],
   "source": [
    "df['Jenis Kelamin'].unique()"
   ]
  },
  {
   "cell_type": "code",
   "execution_count": 14,
   "id": "b973be3a",
   "metadata": {},
   "outputs": [
    {
     "name": "stdout",
     "output_type": "stream",
     "text": [
      "Distribusi stunting_bin:\n",
      " Stunting_bin\n",
      "0    72320\n",
      "1    20372\n",
      "Name: count, dtype: Int64\n",
      "\n",
      "Distribusi JK_bin:\n",
      " JK_bin\n",
      "1    46353\n",
      "0    46339\n",
      "Name: count, dtype: int64\n"
     ]
    }
   ],
   "source": [
    "# Mapping kolom Stunting - biner\n",
    "map_stunt = {'Stunted': 1, 'Severely Stunted': 1, 'Normal': 0, 'Tall': 0}\n",
    "df['Stunting_bin'] = df['Stunting'].map(map_stunt).astype('Int64')\n",
    "\n",
    "# Mapping kolom Jenis Kelamin -> biner\n",
    "# Laki-laki = 1, perempuan = 0\n",
    "df['JK_bin'] = (df['Jenis Kelamin'] == 'Laki-laki').astype(int)\n",
    "\n",
    "print(\"Distribusi stunting_bin:\\n\", df['Stunting_bin'].value_counts())\n",
    "print(\"\\nDistribusi JK_bin:\\n\", df['JK_bin'].value_counts())\n"
   ]
  },
  {
   "cell_type": "code",
   "execution_count": 15,
   "id": "2413957a",
   "metadata": {},
   "outputs": [
    {
     "data": {
      "text/html": [
       "<div>\n",
       "<style scoped>\n",
       "    .dataframe tbody tr th:only-of-type {\n",
       "        vertical-align: middle;\n",
       "    }\n",
       "\n",
       "    .dataframe tbody tr th {\n",
       "        vertical-align: top;\n",
       "    }\n",
       "\n",
       "    .dataframe thead th {\n",
       "        text-align: right;\n",
       "    }\n",
       "</style>\n",
       "<table border=\"1\" class=\"dataframe\">\n",
       "  <thead>\n",
       "    <tr style=\"text-align: right;\">\n",
       "      <th></th>\n",
       "      <th>Umur (bulan)</th>\n",
       "      <th>Tinggi Badan (cm)</th>\n",
       "      <th>Berat Badan (kg)</th>\n",
       "      <th>Stunting_bin</th>\n",
       "      <th>JK_bin</th>\n",
       "    </tr>\n",
       "  </thead>\n",
       "  <tbody>\n",
       "    <tr>\n",
       "      <th>Umur (bulan)</th>\n",
       "      <td>1.000000</td>\n",
       "      <td>0.874162</td>\n",
       "      <td>0.659566</td>\n",
       "      <td>0.037173</td>\n",
       "      <td>0.000636</td>\n",
       "    </tr>\n",
       "    <tr>\n",
       "      <th>Tinggi Badan (cm)</th>\n",
       "      <td>0.874162</td>\n",
       "      <td>1.000000</td>\n",
       "      <td>0.618453</td>\n",
       "      <td>-0.288216</td>\n",
       "      <td>0.070159</td>\n",
       "    </tr>\n",
       "    <tr>\n",
       "      <th>Berat Badan (kg)</th>\n",
       "      <td>0.659566</td>\n",
       "      <td>0.618453</td>\n",
       "      <td>1.000000</td>\n",
       "      <td>0.020676</td>\n",
       "      <td>0.043446</td>\n",
       "    </tr>\n",
       "    <tr>\n",
       "      <th>Stunting_bin</th>\n",
       "      <td>0.037173</td>\n",
       "      <td>-0.288216</td>\n",
       "      <td>0.020676</td>\n",
       "      <td>1.000000</td>\n",
       "      <td>-0.005187</td>\n",
       "    </tr>\n",
       "    <tr>\n",
       "      <th>JK_bin</th>\n",
       "      <td>0.000636</td>\n",
       "      <td>0.070159</td>\n",
       "      <td>0.043446</td>\n",
       "      <td>-0.005187</td>\n",
       "      <td>1.000000</td>\n",
       "    </tr>\n",
       "  </tbody>\n",
       "</table>\n",
       "</div>"
      ],
      "text/plain": [
       "                   Umur (bulan)  Tinggi Badan (cm)  Berat Badan (kg)  \\\n",
       "Umur (bulan)           1.000000           0.874162          0.659566   \n",
       "Tinggi Badan (cm)      0.874162           1.000000          0.618453   \n",
       "Berat Badan (kg)       0.659566           0.618453          1.000000   \n",
       "Stunting_bin           0.037173          -0.288216          0.020676   \n",
       "JK_bin                 0.000636           0.070159          0.043446   \n",
       "\n",
       "                   Stunting_bin    JK_bin  \n",
       "Umur (bulan)           0.037173  0.000636  \n",
       "Tinggi Badan (cm)     -0.288216  0.070159  \n",
       "Berat Badan (kg)       0.020676  0.043446  \n",
       "Stunting_bin           1.000000 -0.005187  \n",
       "JK_bin                -0.005187  1.000000  "
      ]
     },
     "execution_count": 15,
     "metadata": {},
     "output_type": "execute_result"
    }
   ],
   "source": [
    "corr_matrix = df.corr(numeric_only=True)\n",
    "corr_matrix"
   ]
  },
  {
   "cell_type": "code",
   "execution_count": 16,
   "id": "ff716ded",
   "metadata": {},
   "outputs": [
    {
     "data": {
      "image/png": "[encoded data removed]",
      "text/plain": [
       "<Figure size 800x600 with 2 Axes>"
      ]
     },
     "metadata": {},
     "output_type": "display_data"
    }
   ],
   "source": [
    "import seaborn as sns\n",
    "import matplotlib.pyplot as plt\n",
    "\n",
    "plt.figure(figsize=(8, 6))\n",
    "sns.heatmap(corr_matrix, annot=True, cmap='coolwarm', fmt=\".2f\", linewidths=0.5)\n",
    "plt.title('Heatmap Korelasi Antar Variabel Numerik terhadap Stunting', fontsize=12)\n",
    "plt.show()"
   ]
  },
  {
   "cell_type": "code",
   "execution_count": 17,
   "id": "b72703e3",
   "metadata": {},
   "outputs": [
    {
     "name": "stdout",
     "output_type": "stream",
     "text": [
      "X shape: (92692, 4)\n",
      "y shape: (92692,)\n"
     ]
    }
   ],
   "source": [
    "# Fitur numerik dan gender\n",
    "feature_num = ['Umur (bulan)', 'Tinggi Badan (cm)', 'Berat Badan (kg)']\n",
    "feature_bin = ['JK_bin']\n",
    "\n",
    "# Gabungkan & drop missing\n",
    "use_cols = feature_num + feature_bin + ['Stunting_bin']\n",
    "df_model = df[use_cols].dropna().copy()\n",
    "\n",
    "X = df_model[feature_num + feature_bin]\n",
    "y = df_model['Stunting_bin']\n",
    "\n",
    "print(\"X shape:\", X.shape)\n",
    "print(\"y shape:\", y.shape)"
   ]
  },
  {
   "cell_type": "code",
   "execution_count": 20,
   "id": "fec9bf7e",
   "metadata": {},
   "outputs": [
    {
     "name": "stdout",
     "output_type": "stream",
     "text": [
      "Data latih: (74153, 4)\n",
      "Data uji: (18539, 4)\n"
     ]
    }
   ],
   "source": [
    "X_train, X_test, y_train, y_test  = train_test_split(\n",
    "     X, y, test_size=0.2,\n",
    "     random_state=42,\n",
    "     stratify=y\n",
    ")\n",
    "\n",
    "print(\"Data latih:\", X_train.shape)\n",
    "print(\"Data uji:\", X_test.shape)\n"
   ]
  },
  {
   "cell_type": "code",
   "execution_count": 23,
   "id": "4cd5f475",
   "metadata": {},
   "outputs": [
    {
     "name": "stdout",
     "output_type": "stream",
     "text": [
      "Model Logistic Regression berhasil dilatih.\n"
     ]
    }
   ],
   "source": [
    "preprocess = ColumnTransformer(\n",
    "     transformers=[\n",
    "          ('num', StandardScaler(), feature_num),\n",
    "          ('bin', 'passthrough', feature_bin)\n",
    "     ], \n",
    "     remainder='drop'\n",
    ")\n",
    "\n",
    "model = LogisticRegression(\n",
    "     max_iter=1000,\n",
    "     solver='lbfgs',\n",
    "     class_weight='balanced',\n",
    "     random_state=42\n",
    ")\n",
    "\n",
    "clf = Pipeline([\n",
    "     ('preprocess', preprocess),\n",
    "     ('model', model)\n",
    "])\n",
    "\n",
    "# Latih model\n",
    "clf.fit(X_train, y_train)\n",
    "print(\"Model Logistic Regression berhasil dilatih.\")\n"
   ]
  },
  {
   "cell_type": "code",
   "execution_count": 24,
   "id": "e6cb10f7",
   "metadata": {},
   "outputs": [
    {
     "name": "stdout",
     "output_type": "stream",
     "text": [
      "Akurasi: 0.906252\n",
      "Precision: 0.713893\n",
      "Recall: 0.957055\n",
      "F1-Score: 0.817782\n",
      "ROC-AUC: 0.965055\n"
     ]
    }
   ],
   "source": [
    "# Prediksi & probabilitas\n",
    "y_pred = clf.predict(X_test)\n",
    "y_prob = clf.predict_proba(X_test)[:,1]\n",
    "\n",
    "# Hitung metrik\n",
    "print(f\"Akurasi: {accuracy_score(y_test, y_pred):4f}\")\n",
    "print(f\"Precision: {precision_score(y_test, y_pred, zero_division=0):4f}\")\n",
    "print(f\"Recall: {recall_score(y_test, y_pred, zero_division=0):4f}\")\n",
    "print(f\"F1-Score: {f1_score(y_test, y_pred, zero_division=0):4f}\")\n",
    "print(f\"ROC-AUC: {roc_auc_score(y_test, y_prob):4f}\")\n"
   ]
  },
  {
   "cell_type": "code",
   "execution_count": 25,
   "id": "2479635b",
   "metadata": {},
   "outputs": [
    {
     "data": {
      "image/png": "[encoded data removed]",
      "text/plain": [
       "<Figure size 640x480 with 2 Axes>"
      ]
     },
     "metadata": {},
     "output_type": "display_data"
    },
    {
     "data": {
      "image/png": "[encoded data removed]",
      "text/plain": [
       "<Figure size 640x480 with 1 Axes>"
      ]
     },
     "metadata": {},
     "output_type": "display_data"
    }
   ],
   "source": [
    "# Confusion Matrix\n",
    "ConfusionMatrixDisplay(confusion_matrix(y_test, y_pred),\n",
    "                       display_labels=['Normal', 'Stunting']).plot(values_format='d')\n",
    "plt.title('Confusion Matrix')\n",
    "plt.show()\n",
    "\n",
    "# ROC\n",
    "\n",
    "RocCurveDisplay.from_estimator(clf, X_test, y_test)\n",
    "plt.title(\"ROC Curve Logistic Regression\")\n",
    "plt.show()"
   ]
  },
  {
   "cell_type": "code",
   "execution_count": 26,
   "id": "9ee2dded",
   "metadata": {},
   "outputs": [
    {
     "name": "stdout",
     "output_type": "stream",
     "text": [
      "                precision    recall  f1-score   support\n",
      "\n",
      "Tidak Stunting       0.99      0.89      0.94     14464\n",
      "  Stunting (1)       0.71      0.96      0.82      4075\n",
      "\n",
      "      accuracy                           0.91     18539\n",
      "     macro avg       0.85      0.92      0.88     18539\n",
      "  weighted avg       0.93      0.91      0.91     18539\n",
      "\n"
     ]
    }
   ],
   "source": [
    "from sklearn.metrics import classification_report\n",
    "print(classification_report(y_test, y_pred, target_names=['Tidak Stunting', 'Stunting (1)']))"
   ]
  },
  {
   "cell_type": "code",
   "execution_count": 32,
   "id": "a0fa91a5",
   "metadata": {},
   "outputs": [
    {
     "name": "stdout",
     "output_type": "stream",
     "text": [
      "Skor tiap fold: [0.9084093  0.90414801 0.90468227 0.90673212 0.9028482 ]\n",
      "Rata-rata akurasi: 0.9053639814725255\n",
      "Standar deviasi 0.001970695381359219\n"
     ]
    }
   ],
   "source": [
    "from sklearn.model_selection import cross_val_score\n",
    "\n",
    "# Lakukan cross validation\n",
    "scores = cross_val_score(clf, X, y, cv=5,)\n",
    "\n",
    "print(\"Skor tiap fold:\", scores)\n",
    "print(\"Rata-rata akurasi:\", np.mean(scores))\n",
    "print(\"Standar deviasi\", np.std(scores))"
   ]
  },
  {
   "cell_type": "code",
   "execution_count": 38,
   "id": "d9203f19",
   "metadata": {},
   "outputs": [
    {
     "data": {
      "text/html": [
       "<div>\n",
       "<style scoped>\n",
       "    .dataframe tbody tr th:only-of-type {\n",
       "        vertical-align: middle;\n",
       "    }\n",
       "\n",
       "    .dataframe tbody tr th {\n",
       "        vertical-align: top;\n",
       "    }\n",
       "\n",
       "    .dataframe thead th {\n",
       "        text-align: right;\n",
       "    }\n",
       "</style>\n",
       "<table border=\"1\" class=\"dataframe\">\n",
       "  <thead>\n",
       "    <tr style=\"text-align: right;\">\n",
       "      <th></th>\n",
       "      <th>Fitur</th>\n",
       "      <th>Koefisien log-odds</th>\n",
       "      <th>Odds Ratio (e^coef)</th>\n",
       "    </tr>\n",
       "  </thead>\n",
       "  <tbody>\n",
       "    <tr>\n",
       "      <th>0</th>\n",
       "      <td>Umur (bulan)</td>\n",
       "      <td>8.661420</td>\n",
       "      <td>5775.733054</td>\n",
       "    </tr>\n",
       "    <tr>\n",
       "      <th>3</th>\n",
       "      <td>JK_bin</td>\n",
       "      <td>1.726339</td>\n",
       "      <td>5.620042</td>\n",
       "    </tr>\n",
       "    <tr>\n",
       "      <th>2</th>\n",
       "      <td>Berat Badan (kg)</td>\n",
       "      <td>0.653153</td>\n",
       "      <td>1.921590</td>\n",
       "    </tr>\n",
       "    <tr>\n",
       "      <th>1</th>\n",
       "      <td>Tinggi Badan (cm)</td>\n",
       "      <td>-10.742834</td>\n",
       "      <td>0.000022</td>\n",
       "    </tr>\n",
       "  </tbody>\n",
       "</table>\n",
       "</div>"
      ],
      "text/plain": [
       "               Fitur  Koefisien log-odds  Odds Ratio (e^coef)\n",
       "0       Umur (bulan)            8.661420          5775.733054\n",
       "3             JK_bin            1.726339             5.620042\n",
       "2   Berat Badan (kg)            0.653153             1.921590\n",
       "1  Tinggi Badan (cm)          -10.742834             0.000022"
      ]
     },
     "metadata": {},
     "output_type": "display_data"
    }
   ],
   "source": [
    "# Ambil nama fitur & koefisien\n",
    "feat_names = feature_num + feature_bin\n",
    "coefs = clf.named_steps['model'].coef_[0]\n",
    "odds = np.exp(coefs)\n",
    "\n",
    "coef_df = pd.DataFrame({\n",
    "     'Fitur': feat_names,\n",
    "     'Koefisien log-odds': coefs,\n",
    "     'Odds Ratio (e^coef)': odds\n",
    "}).sort_values('Odds Ratio (e^coef)', ascending=False)\n",
    "     \n",
    "     \n",
    "\n",
    "display(coef_df)"
   ]
  },
  {
   "cell_type": "code",
   "execution_count": 41,
   "id": "72f6463e",
   "metadata": {},
   "outputs": [
    {
     "data": {
      "text/html": [
       "<div>\n",
       "<style scoped>\n",
       "    .dataframe tbody tr th:only-of-type {\n",
       "        vertical-align: middle;\n",
       "    }\n",
       "\n",
       "    .dataframe tbody tr th {\n",
       "        vertical-align: top;\n",
       "    }\n",
       "\n",
       "    .dataframe thead th {\n",
       "        text-align: right;\n",
       "    }\n",
       "</style>\n",
       "<table border=\"1\" class=\"dataframe\">\n",
       "  <thead>\n",
       "    <tr style=\"text-align: right;\">\n",
       "      <th></th>\n",
       "      <th>Umur (bulan)</th>\n",
       "      <th>Tinggi Badan (cm)</th>\n",
       "      <th>Berat Badan (kg)</th>\n",
       "      <th>JK_bin</th>\n",
       "      <th>Prob_Stunting</th>\n",
       "      <th>Pred (0=Tidak,1=Ya)</th>\n",
       "    </tr>\n",
       "  </thead>\n",
       "  <tbody>\n",
       "    <tr>\n",
       "      <th>0</th>\n",
       "      <td>24</td>\n",
       "      <td>79.0</td>\n",
       "      <td>9.2</td>\n",
       "      <td>1</td>\n",
       "      <td>0.998346</td>\n",
       "      <td>1.0</td>\n",
       "    </tr>\n",
       "    <tr>\n",
       "      <th>1</th>\n",
       "      <td>10</td>\n",
       "      <td>72.5</td>\n",
       "      <td>7.8</td>\n",
       "      <td>0</td>\n",
       "      <td>0.001810</td>\n",
       "      <td>0.0</td>\n",
       "    </tr>\n",
       "  </tbody>\n",
       "</table>\n",
       "</div>"
      ],
      "text/plain": [
       "   Umur (bulan)  Tinggi Badan (cm)  Berat Badan (kg)  JK_bin  Prob_Stunting  \\\n",
       "0            24               79.0               9.2       1       0.998346   \n",
       "1            10               72.5               7.8       0       0.001810   \n",
       "\n",
       "   Pred (0=Tidak,1=Ya)  \n",
       "0                  1.0  \n",
       "1                  0.0  "
      ]
     },
     "metadata": {},
     "output_type": "display_data"
    }
   ],
   "source": [
    "data_baru = pd.DataFrame({\n",
    "     'Umur (bulan)': [24, 10],\n",
    "     'Tinggi Badan (cm)': [79.0, 72.5],\n",
    "     'Berat Badan (kg)': [9.2, 7.8],\n",
    "     'JK_bin': [1, 0]\n",
    "})\n",
    "\n",
    "pred = clf.predict(data_baru)\n",
    "prob = clf.predict_proba(data_baru)[:,1]\n",
    "\n",
    "hasil = data_baru.copy()\n",
    "hasil['Prob_Stunting'] = prob\n",
    "hasil['Pred (0=Tidak,1=Ya)'] = pred\n",
    "display(hasil)"
   ]
  }
 ],
 "metadata": {
  "kernelspec": {
   "display_name": "base",
   "language": "python",
   "name": "python3"
  },
  "language_info": {
   "codemirror_mode": {
    "name": "ipython",
    "version": 3
   },
   "file_extension": ".py",
   "mimetype": "text/x-python",
   "name": "python",
   "nbconvert_exporter": "python",
   "pygments_lexer": "ipython3",
   "version": "3.13.5"
  }
 },
 "nbformat": 4,
 "nbformat_minor": 5
}
